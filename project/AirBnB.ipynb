{
 "cells": [
  {
   "cell_type": "markdown",
   "metadata": {},
   "source": [
    "<img src=\"./assets/airbnb_logo.png\"\n",
    "    style=\"width:300px; float: right; margin: 0 40px 40px 40px;\"></img>\n",
    "# Group Project AirBnB\n",
    "**Useful links**\n",
    "\n",
    "<a href=\"https://github.com/ShimantoRahman/aCRM-Group-Project-AirBnB\"><img src=\"./assets/github_logo.png\" style=\"width:120px; margin: 0 0 40px 40px;\"></a>\n",
    "\n",
    "> [Inside AirBnB: New York](http://insideairbnb.com/new-york-city/?fbclid=IwAR3lvDyNFboZqns1jNJ8v4OzqzG8sLFsqeSlRjqb_-tyvk4iM_XRSYdwmEQ)\n",
    "\n",
    "> [Airbnb Rental Listings Dataset Mining](https://towardsdatascience.com/airbnb-rental-listings-dataset-mining-f972ed08ddec)\n",
    "\n",
    "## 1 Setup\n",
    "### 1.1 Import modules"
   ]
  },
  {
   "cell_type": "code",
   "execution_count": null,
   "metadata": {},
   "outputs": [],
   "source": [
    "import numpy as np\n",
    "import pandas as pd\n",
    "import matplotlib.pyplot as plt\n",
    "import seaborn as sns\n",
    "import nltk\n",
    "from sklearn.preprocessing import LabelEncoder\n",
    "# nltk.download('punkt')\n",
    "# nltk.download('stopwords')"
   ]
  },
  {
   "cell_type": "markdown",
   "metadata": {},
   "source": [
    "![green-divider](./assets/green_divider.png)"
   ]
  },
  {
   "cell_type": "markdown",
   "metadata": {},
   "source": [
    "### 1.2 Read data"
   ]
  },
  {
   "cell_type": "code",
   "execution_count": null,
   "metadata": {},
   "outputs": [],
   "source": [
    "calendar_detail = pd.read_csv(\"./data/calendar_detail.csv\")\n",
    "listings_summary = pd.read_csv(\"./data/listings_summary.csv\")\n",
    "reviews_summary = pd.read_csv(\"./data/reviews_summary.csv\")\n",
    "neighbourhoods = pd.read_csv(\"./data/neighbourhoods.csv\")"
   ]
  },
  {
   "cell_type": "code",
   "execution_count": null,
   "metadata": {},
   "outputs": [],
   "source": [
    "listings_detail = pd.read_csv(\"./data/listings_detail.csv\")"
   ]
  },
  {
   "cell_type": "code",
   "execution_count": null,
   "metadata": {},
   "outputs": [],
   "source": [
    "reviews_detail = pd.read_csv(\"./data/reviews_detail.csv\")"
   ]
  },
  {
   "cell_type": "code",
   "execution_count": null,
   "metadata": {},
   "outputs": [],
   "source": [
    "calendar_detail.head()"
   ]
  },
  {
   "cell_type": "code",
   "execution_count": null,
   "metadata": {},
   "outputs": [],
   "source": [
    "listings_summary.head()"
   ]
  },
  {
   "cell_type": "code",
   "execution_count": null,
   "metadata": {},
   "outputs": [],
   "source": [
    "reviews_summary.head()"
   ]
  },
  {
   "cell_type": "code",
   "execution_count": null,
   "metadata": {},
   "outputs": [],
   "source": [
    "neighbourhoods.head()"
   ]
  },
  {
   "cell_type": "code",
   "execution_count": null,
   "metadata": {},
   "outputs": [],
   "source": [
    "listings_detail.head()"
   ]
  },
  {
   "cell_type": "code",
   "execution_count": null,
   "metadata": {},
   "outputs": [],
   "source": [
    "reviews_detail.head()"
   ]
  },
  {
   "cell_type": "markdown",
   "metadata": {},
   "source": [
    "![green-divider](./assets/green_divider.png)"
   ]
  },
  {
   "cell_type": "markdown",
   "metadata": {},
   "source": [
    "### 1.3 data preparation\n",
    "#### 1.3.1 Detecting NaN values"
   ]
  },
  {
   "cell_type": "code",
   "execution_count": null,
   "metadata": {},
   "outputs": [],
   "source": [
    "print(\"listings_summary\\n\")\n",
    "print(listings_summary.isnull().sum())"
   ]
  },
  {
   "cell_type": "code",
   "execution_count": null,
   "metadata": {},
   "outputs": [],
   "source": [
    "print(\"listings_detail\\n\")\n",
    "print(listings_detail.isnull().sum())"
   ]
  },
  {
   "cell_type": "code",
   "execution_count": null,
   "metadata": {},
   "outputs": [],
   "source": [
    "print(\"reviews_summary\\n\")\n",
    "print(reviews_summary.isnull().sum())"
   ]
  },
  {
   "cell_type": "code",
   "execution_count": null,
   "metadata": {},
   "outputs": [],
   "source": [
    "print(\"reviews_detail\\n\")\n",
    "print(reviews_detail.isnull().sum())"
   ]
  },
  {
   "cell_type": "code",
   "execution_count": null,
   "metadata": {},
   "outputs": [],
   "source": [
    "print(\"neighbourhoods\\n\")\n",
    "print(neighbourhoods.isnull().sum())"
   ]
  },
  {
   "cell_type": "code",
   "execution_count": null,
   "metadata": {},
   "outputs": [],
   "source": [
    "print(\"\\ncalendar_detail\\n\")\n",
    "print(calendar_detail.isnull().sum())"
   ]
  },
  {
   "cell_type": "markdown",
   "metadata": {},
   "source": [
    "![green-divider](./assets/green_divider.png)"
   ]
  },
  {
   "cell_type": "markdown",
   "metadata": {},
   "source": [
    "#### 1.3.2 Cleansing data"
   ]
  },
  {
   "cell_type": "code",
   "execution_count": null,
   "metadata": {},
   "outputs": [],
   "source": [
    "# removing listings where first and last review do not both match\n",
    "listings_detail = listings_detail[~((listings_detail[\"first_review\"].isnull()) & ~(listings_detail[\"last_review\"].isnull()))]"
   ]
  },
  {
   "cell_type": "code",
   "execution_count": null,
   "metadata": {},
   "outputs": [],
   "source": [
    "# replacing NaN values for reviews_per_month to 0\n",
    "# rows with NaN value for reviews_per_month do not have a first or last review, thus they have 0 reviews per month\n",
    "column_imputations = {\"reviews_per_month\": 0}\n",
    "listings_detail = listings_detail.fillna(value = column_imputations)"
   ]
  },
  {
   "cell_type": "markdown",
   "metadata": {},
   "source": [
    "![green-divider](./assets/green_divider.png)"
   ]
  },
  {
   "cell_type": "markdown",
   "metadata": {},
   "source": [
    "#### 1.3.2 Correcting data types"
   ]
  },
  {
   "cell_type": "code",
   "execution_count": null,
   "metadata": {},
   "outputs": [],
   "source": [
    "# dates\n",
    "def column_to_date(df, column):\n",
    "    df[column] = pd.to_datetime(df[column], format=\"%Y-%m-%d\")\n",
    "    \n",
    "# listings_summary\n",
    "column_to_date(listings_summary, \"last_review\")\n",
    "\n",
    "# reviews_summary\n",
    "column_to_date(reviews_summary, \"date\")\n",
    "\n",
    "# calendar_detail\n",
    "column_to_date(calendar_detail, \"date\")\n",
    "\n",
    "# listings_detail\n",
    "column_to_date(listings_detail, \"first_review\")\n",
    "column_to_date(listings_detail, \"last_review\")\n",
    "column_to_date(listings_detail, \"last_scraped\")\n",
    "column_to_date(listings_detail, \"calendar_last_scraped\")\n",
    "column_to_date(listings_detail, \"host_since\")\n",
    "\n",
    "# reviews_detail"
   ]
  },
  {
   "cell_type": "code",
   "execution_count": null,
   "metadata": {},
   "outputs": [],
   "source": [
    "# change t/f columns to 1/0\n",
    "label_encoder = LabelEncoder()\n",
    "\n",
    "def column_to_bool(df, column):\n",
    "    label_encoder.fit(df[column])\n",
    "    new_column = column + \"_num\"\n",
    "    df[new_column] = label_encoder.transform(df[column])\n",
    "\n",
    "column_to_bool(listings_detail, \"instant_bookable\")\n",
    "column_to_bool(listings_detail, \"requires_license\")\n",
    "column_to_bool(listings_detail, \"is_business_travel_ready\")\n",
    "column_to_bool(listings_detail, \"require_guest_profile_picture\")\n",
    "column_to_bool(listings_detail, \"require_guest_phone_verification\")\n",
    "column_to_bool(listings_detail, \"instant_bookable\")\n",
    "# column_to_bool(listings_detail, \"host_is_superhost\")\n",
    "column_to_bool(listings_detail, \"has_availability\")\n",
    "listings_detail[[\"requires_license\", \"requires_license_num\"]].head()"
   ]
  },
  {
   "cell_type": "code",
   "execution_count": null,
   "metadata": {},
   "outputs": [],
   "source": [
    "# changing price from $00.0 [String] to 00.0 float \n",
    "\n",
    "calendar_detail[\"price\"] = calendar_detail[\"price\"].str.replace(\"$\", \"\")\n",
    "calendar_detail[\"price\"] = calendar_detail[\"price\"].str.replace(\",\", \"\")\n",
    "calendar_detail[\"price\"] = pd.to_numeric(calendar_detail[\"price\"])"
   ]
  },
  {
   "cell_type": "markdown",
   "metadata": {},
   "source": [
    "![green-divider](./assets/green_divider.png)"
   ]
  },
  {
   "cell_type": "markdown",
   "metadata": {},
   "source": [
    "## 2 Analysis\n",
    "### 2.1 Calculate the average listing price per neighbourhood"
   ]
  },
  {
   "cell_type": "code",
   "execution_count": null,
   "metadata": {},
   "outputs": [],
   "source": [
    "print(listings_summary.groupby(\"neighbourhood\").mean()[\"price\"])"
   ]
  },
  {
   "cell_type": "markdown",
   "metadata": {},
   "source": [
    "### 2.2 Plot how the average price evolves through the year across New York."
   ]
  },
  {
   "cell_type": "code",
   "execution_count": null,
   "metadata": {},
   "outputs": [],
   "source": [
    "calendar_detail[[\"date\", \"price\"]].groupby(\"date\").mean().plot()"
   ]
  },
  {
   "cell_type": "markdown",
   "metadata": {},
   "source": [
    "### 2.3\tIdentify which neighborhood has the largest price fluctuations across the year. Plot the fluctuations for this neighborhood."
   ]
  },
  {
   "cell_type": "code",
   "execution_count": null,
   "metadata": {},
   "outputs": [],
   "source": [
    "# joining listings_summary with calendar_detail\n",
    "temp = listings_summary[[\"id\", \"neighbourhood\"]].rename(columns = {\"id\": \"listing_id\"})\n",
    "cal_listing = pd.merge(calendar_detail, temp, how=\"inner\", on=\"listing_id\")\n",
    "cal_listing.head()"
   ]
  },
  {
   "cell_type": "code",
   "execution_count": null,
   "metadata": {},
   "outputs": [],
   "source": [
    "# calculating variance per neighbourhood and requesting top one\n",
    "price_by_neighbourhood = cal_listing[[\"neighbourhood\", \"price\"]].groupby(\"neighbourhood\").var()\n",
    "price_by_neighbourhood.sort_values(by = \"price\", ascending = False).head(1)"
   ]
  },
  {
   "cell_type": "code",
   "execution_count": null,
   "metadata": {},
   "outputs": [],
   "source": [
    "# plotting the prices of the neighbourhood with the largest price fluctuations\n",
    "cal_listing[[\"date\", \"price\", \"neighbourhood\"]][cal_listing[\"neighbourhood\"] == \"Randall Manor\"].groupby(\"date\").mean().plot()"
   ]
  },
  {
   "cell_type": "markdown",
   "metadata": {},
   "source": [
    "### 2.4 In marketing, there is a phenomenon known as ‘the long tail’ (Hint: look it up). This also translates to the number of reviews. Plot this on an intuitive graph."
   ]
  },
  {
   "cell_type": "code",
   "execution_count": null,
   "metadata": {},
   "outputs": [],
   "source": []
  },
  {
   "cell_type": "markdown",
   "metadata": {},
   "source": [
    "### 2.5\tRun a regression to explain the price per listing. (Hint: location, reviews, etc. may all explain this)."
   ]
  },
  {
   "cell_type": "code",
   "execution_count": null,
   "metadata": {},
   "outputs": [],
   "source": []
  },
  {
   "cell_type": "markdown",
   "metadata": {},
   "source": [
    "### 2.6 Find additional data sources to explain the average listing price per neighbourhood. (Hint : think demographics)"
   ]
  },
  {
   "cell_type": "code",
   "execution_count": null,
   "metadata": {},
   "outputs": [],
   "source": []
  },
  {
   "cell_type": "markdown",
   "metadata": {},
   "source": [
    "### 2.7 Plot how the average prices differ across New York using a color-coded heat map of New York neighborhoods."
   ]
  },
  {
   "cell_type": "code",
   "execution_count": null,
   "metadata": {},
   "outputs": [],
   "source": []
  },
  {
   "cell_type": "markdown",
   "metadata": {},
   "source": [
    "### 2.8 The latitude of Statue of Liberty National Monument, New York, USA is 40.68927, and the longitude is -74.044502. This monument is one of the most popular tourist places in New York. Statistically test wether a distance smaller than 2 miles to the monument increases average listing price."
   ]
  },
  {
   "cell_type": "code",
   "execution_count": null,
   "metadata": {},
   "outputs": [],
   "source": []
  },
  {
   "cell_type": "markdown",
   "metadata": {},
   "source": [
    "### 2.9\tCreate a timeline and plot for each month the highest, Q1, the median, Q3 and lowest price on one graph. Do this for each neighborhood group as well as for the entire city. Determine which neighborhood group stands out the most and create a comparative graph of this neighborhood with all other groups."
   ]
  },
  {
   "cell_type": "code",
   "execution_count": null,
   "metadata": {},
   "outputs": [],
   "source": []
  },
  {
   "cell_type": "markdown",
   "metadata": {},
   "source": [
    "### 2.10 Plot the number of rooms per host in function of the number of reviews per host. "
   ]
  },
  {
   "cell_type": "code",
   "execution_count": null,
   "metadata": {},
   "outputs": [],
   "source": []
  },
  {
   "cell_type": "markdown",
   "metadata": {},
   "source": [
    "### 2.11 Are there a lot of hosts having multiple locations? Do most people just rent their own place? Is there a ‘host long tail’? Make a comprehensive plot."
   ]
  },
  {
   "cell_type": "code",
   "execution_count": null,
   "metadata": {},
   "outputs": [],
   "source": []
  },
  {
   "cell_type": "markdown",
   "metadata": {},
   "source": [
    "### 2.12 Do hosts with multiple locations stay within the same neighbourhood? (hint: use subset)"
   ]
  },
  {
   "cell_type": "code",
   "execution_count": null,
   "metadata": {},
   "outputs": [],
   "source": [
    "# subset of hosts with multiple locations\n",
    "ids = listings_summary[\"host_id\"]\n",
    "subset = listings_summary[ids.isin(ids[ids.duplicated()])].sort_values(by=\"host_id\")\n",
    "\n",
    "# count hosts with different locations and hosts with only 1 location\n",
    "more_than_one_loc = 0\n",
    "just_one_loc = 0\n",
    "for i in ids[ids.duplicated()]:\n",
    "    if len(subset[subset[\"host_id\"] == i][\"neighbourhood\"].unique()) > 1:\n",
    "        more_than_one_loc += 1\n",
    "    else:\n",
    "        just_one_loc += 1\n",
    "        \n",
    "print(\"more than one location: %s\" %more_than_one_loc) # 1201\n",
    "print(\"just one location: %s\" %just_one_loc) # 6008"
   ]
  },
  {
   "cell_type": "code",
   "execution_count": null,
   "metadata": {},
   "outputs": [],
   "source": [
    "# bar chart of counts\n"
   ]
  },
  {
   "cell_type": "markdown",
   "metadata": {},
   "source": [
    "### 2.13 What are the 5 most used words in reviews that are no stop words? (e.g. the, or, etc. Python can filter these automatically using packages such as NLTK)."
   ]
  },
  {
   "cell_type": "code",
   "execution_count": null,
   "metadata": {},
   "outputs": [],
   "source": []
  },
  {
   "cell_type": "markdown",
   "metadata": {},
   "source": [
    "### 2.14 Do these most frequent words differ across neighborhoods? What are the ‘most different’ areas? What distinguishes them? Interpret."
   ]
  },
  {
   "cell_type": "code",
   "execution_count": null,
   "metadata": {},
   "outputs": [],
   "source": []
  },
  {
   "cell_type": "markdown",
   "metadata": {},
   "source": [
    "### 2.15 Plot the amount of reviews across time. "
   ]
  },
  {
   "cell_type": "code",
   "execution_count": null,
   "metadata": {},
   "outputs": [],
   "source": []
  },
  {
   "cell_type": "markdown",
   "metadata": {},
   "source": [
    "### 2.16 Is there a link between availability (days per year) with the price? Determine both graphically and statistically. "
   ]
  },
  {
   "cell_type": "code",
   "execution_count": null,
   "metadata": {},
   "outputs": [],
   "source": []
  },
  {
   "cell_type": "markdown",
   "metadata": {},
   "source": [
    "### 2.17 Is there a link between how many times the word ‘great’ appears in a review and the listing price? Determine both graphically and statistically. "
   ]
  },
  {
   "cell_type": "code",
   "execution_count": null,
   "metadata": {},
   "outputs": [],
   "source": []
  },
  {
   "cell_type": "markdown",
   "metadata": {},
   "source": [
    "### 2.18 Plot how the number of Airbnb locations are distributed across the city on a map. Plot the number of locations per neighborhood and color code according to neighborhood group."
   ]
  },
  {
   "cell_type": "code",
   "execution_count": null,
   "metadata": {},
   "outputs": [],
   "source": []
  },
  {
   "cell_type": "markdown",
   "metadata": {},
   "source": [
    "### 2.19 Williamsburg is a ‘hip’ area in in Brooklyn with a lot of Airbnb locations on offer. Explore how this area differs from other locations and visualize. You may also use external data sources."
   ]
  },
  {
   "cell_type": "code",
   "execution_count": null,
   "metadata": {},
   "outputs": [],
   "source": []
  },
  {
   "cell_type": "markdown",
   "metadata": {},
   "source": [
    "### 2.20  Create a stacked bar chart of the distribution of room type per neighborhood group. Statistically test whether these differences are significant."
   ]
  },
  {
   "cell_type": "code",
   "execution_count": null,
   "metadata": {},
   "outputs": [],
   "source": []
  },
  {
   "cell_type": "markdown",
   "metadata": {},
   "source": [
    "### 2.21 Color-coded plot the most popular room type per neighborhood on a city map."
   ]
  },
  {
   "cell_type": "code",
   "execution_count": null,
   "metadata": {},
   "outputs": [],
   "source": []
  }
 ],
 "metadata": {
  "kernelspec": {
   "display_name": "Python 3",
   "language": "python",
   "name": "python3"
  },
  "language_info": {
   "codemirror_mode": {
    "name": "ipython",
    "version": 3
   },
   "file_extension": ".py",
   "mimetype": "text/x-python",
   "name": "python",
   "nbconvert_exporter": "python",
   "pygments_lexer": "ipython3",
   "version": "3.7.3"
  }
 },
 "nbformat": 4,
 "nbformat_minor": 2
}
